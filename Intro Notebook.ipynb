{
 "cells": [
  {
   "cell_type": "code",
   "execution_count": 1,
   "metadata": {},
   "outputs": [
    {
     "name": "stdout",
     "output_type": "stream",
     "text": [
      "Hello World!\n"
     ]
    }
   ],
   "source": [
    "print(\"Hello World!\")"
   ]
  },
  {
   "cell_type": "code",
   "execution_count": 2,
   "metadata": {},
   "outputs": [
    {
     "data": {
      "text/plain": [
       "31536000"
      ]
     },
     "execution_count": 2,
     "metadata": {},
     "output_type": "execute_result"
    }
   ],
   "source": [
    "365 * 24 * 60 * 60"
   ]
  },
  {
   "cell_type": "code",
   "execution_count": 3,
   "metadata": {},
   "outputs": [
    {
     "data": {
      "text/plain": [
       "31.536"
      ]
     },
     "execution_count": 3,
     "metadata": {},
     "output_type": "execute_result"
    }
   ],
   "source": [
    "_ / 1e6"
   ]
  },
  {
   "cell_type": "code",
   "execution_count": 4,
   "metadata": {},
   "outputs": [
    {
     "name": "stdout",
     "output_type": "stream",
     "text": [
      "7\n"
     ]
    }
   ],
   "source": [
    "x = 4 + 3\n",
    "print(x)"
   ]
  },
  {
   "cell_type": "markdown",
   "metadata": {},
   "source": [
    "# Heading 1\n",
    "## Heading 2\n",
    "### Heading 3\n",
    "\n",
    "**example**\n",
    "*example*\n",
    "http://hi.com\n",
    "\n",
    "Hi !\n",
    "* one fish\n",
    "* Two fish"
   ]
  },
  {
   "cell_type": "markdown",
   "metadata": {},
   "source": [
    "This is a **Latex** equation:\n",
    "\n",
    "$\\int_0^\\infty x^{-alpha}$"
   ]
  },
  {
   "cell_type": "code",
   "execution_count": 2,
   "metadata": {},
   "outputs": [
    {
     "data": {
      "text/plain": [
       "[<matplotlib.lines.Line2D at 0x7ff61e1ac550>]"
      ]
     },
     "execution_count": 2,
     "metadata": {},
     "output_type": "execute_result"
    },
    {
     "data": {
      "image/png": "[encoded data removed]",
      "text/plain": [
       "<Figure size 432x288 with 1 Axes>"
      ]
     },
     "metadata": {
      "needs_background": "light"
     },
     "output_type": "display_data"
    }
   ],
   "source": [
    "from matplotlib.pyplot import plot\n",
    "\n",
    "plot([0,1,0,1])"
   ]
  },
  {
   "cell_type": "code",
   "execution_count": 3,
   "metadata": {},
   "outputs": [
    {
     "data": {
      "text/plain": [
       "7"
      ]
     },
     "execution_count": 3,
     "metadata": {},
     "output_type": "execute_result"
    }
   ],
   "source": [
    "word = \"I am a legend\"\n",
    "word.find(\"legend\")"
   ]
  },
  {
   "cell_type": "code",
   "execution_count": 4,
   "metadata": {},
   "outputs": [
    {
     "data": {
      "text/plain": [
       "[0, 1, 2, 3, 4, 5]"
      ]
     },
     "execution_count": 4,
     "metadata": {},
     "output_type": "execute_result"
    }
   ],
   "source": [
    "list = [i for i in range (0,6)]\n",
    "list"
   ]
  },
  {
   "cell_type": "code",
   "execution_count": 5,
   "metadata": {},
   "outputs": [
    {
     "data": {
      "text/plain": [
       "[2, 4, 0, 5, 0, 5, 4, 4, 2, 4]"
      ]
     },
     "execution_count": 5,
     "metadata": {},
     "output_type": "execute_result"
    }
   ],
   "source": [
    "import random\n",
    "list = [random.randint(0,5) for i in range(0,10)]\n",
    "list"
   ]
  },
  {
   "cell_type": "code",
   "execution_count": 7,
   "metadata": {},
   "outputs": [
    {
     "data": {
      "text/plain": [
       "{'A': 65,\n",
       " 'B': 66,\n",
       " 'C': 67,\n",
       " 'D': 68,\n",
       " 'E': 69,\n",
       " 'F': 70,\n",
       " 'G': 71,\n",
       " 'H': 72,\n",
       " 'I': 73,\n",
       " 'J': 74,\n",
       " 'K': 75,\n",
       " 'L': 76,\n",
       " 'M': 77,\n",
       " 'N': 78,\n",
       " 'O': 79,\n",
       " 'P': 80,\n",
       " 'Q': 81,\n",
       " 'R': 82,\n",
       " 'S': 83,\n",
       " 'T': 84,\n",
       " 'U': 85,\n",
       " 'V': 86,\n",
       " 'W': 87,\n",
       " 'X': 88,\n",
       " 'Y': 89,\n",
       " 'Z': 90}"
      ]
     },
     "execution_count": 7,
     "metadata": {},
     "output_type": "execute_result"
    }
   ],
   "source": [
    "dict = {chr(i):ord(chr(i)) for i in range(ord('A'),ord('Z')+1)}\n",
    "dict"
   ]
  },
  {
   "cell_type": "code",
   "execution_count": 44,
   "metadata": {},
   "outputs": [
    {
     "name": "stdout",
     "output_type": "stream",
     "text": [
      "set(['all', \"she'll\", 'just', \"don't\", 'being', 'over', 'through', 'yourselves', 'its', 'before', \"he's\", \"when's\", \"we've\", 'had', 'should', \"he'd\", 'to', 'only', \"there's\", 'those', 'under', 'ours', 'has', \"haven't\", 'do', 'them', 'his', \"they'll\", 'get', 'very', \"who's\", \"they'd\", 'cannot', \"you've\", 'they', 'not', 'during', 'yourself', 'him', 'nor', \"we'll\", 'like', 'did', \"they've\", 'this', 'she', 'each', \"won't\", 'where', \"mustn't\", \"isn't\", \"i'll\", \"why's\", 'www', 'because', \"you'd\", 'doing', 'some', 'up', 'are', 'further', 'ourselves', 'out', 'what', 'for', 'while', \"wasn't\", 'does', \"shouldn't\", 'above', 'between', 'ever', 'ought', 'be', 'we', 'who', \"you're\", 'were', 'here', 'hers', \"aren't\", 'by', 'both', 'about', 'would', 'of', 'could', 'against', \"i'd\", \"weren't\", \"i'm\", 'com', 'or', \"can't\", 'own', 'into', 'whom', 'down', \"hadn't\", \"couldn't\", \"wouldn't\", 'your', \"doesn't\", 'from', \"how's\", 'her', 'their', \"it's\", 'there', 'been', 'why', 'few', 'too', 'themselves', 'was', 'until', 'more', 'himself', \"where's\", \"i've\", 'with', \"didn't\", \"what's\", 'but', 'else', 'herself', 'than', \"here's\", 'he', 'me', \"they're\", 'myself', 'these', \"hasn't\", 'below', 'r', 'can', 'theirs', 'my', 'k', \"we'd\", 'and', 'then', 'is', 'am', 'it', 'an', 'as', 'itself', 'at', 'have', 'in', 'any', 'if', 'again', 'no', 'that', 'when', 'same', 'how', 'other', 'which', 'you', \"shan't\", 'http', 'shall', 'our', 'after', \"let's\", 'most', 'such', 'on', \"he'll\", 'a', 'off', 'i', \"she'd\", 'yours', \"you'll\", 'so', \"we're\", \"she's\", 'the', \"that's\", 'having', 'once'])\n",
      "('little', ': ', 264)\n",
      "('said', ': ', 642)\n",
      "('defarge', ': ', 259)\n",
      "('time', ': ', 236)\n",
      "('upon', ': ', 289)\n",
      "('one', ': ', 420)\n",
      "('will', ': ', 290)\n",
      "('mr', ': ', 616)\n",
      "('lorry', ': ', 313)\n",
      "('man', ': ', 259)\n",
      "QGtkStyle could not resolve GTK. Make sure you have installed the proper libraries.\n",
      "/home/iman/anaconda/lib/python2.7/site-packages/matplotlib/collections.py:590: FutureWarning: elementwise comparison failed; returning scalar instead, but in the future will perform elementwise comparison\n",
      "  if self._edgecolors == str('face'):\n"
     ]
    }
   ],
   "source": [
    "!ipython word_cloud/word_cloud.py"
   ]
  },
  {
   "cell_type": "code",
   "execution_count": null,
   "metadata": {},
   "outputs": [],
   "source": []
  }
 ],
 "metadata": {
  "kernelspec": {
   "display_name": "Python 3",
   "language": "python",
   "name": "python3"
  },
  "language_info": {
   "codemirror_mode": {
    "name": "ipython",
    "version": 3
   },
   "file_extension": ".py",
   "mimetype": "text/x-python",
   "name": "python",
   "nbconvert_exporter": "python",
   "pygments_lexer": "ipython3",
   "version": "3.6.6"
  }
 },
 "nbformat": 4,
 "nbformat_minor": 2
}
